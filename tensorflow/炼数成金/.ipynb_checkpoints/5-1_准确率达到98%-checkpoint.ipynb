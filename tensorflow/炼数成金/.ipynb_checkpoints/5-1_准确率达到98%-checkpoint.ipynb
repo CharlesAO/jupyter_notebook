{
 "cells": [
  {
   "cell_type": "code",
   "execution_count": 1,
   "metadata": {},
   "outputs": [],
   "source": [
    "import tensorflow as tf\n",
    "from tensorflow.examples.tutorials.mnist import input_data\n",
    "import time"
   ]
  },
  {
   "cell_type": "code",
   "execution_count": 3,
   "metadata": {},
   "outputs": [
    {
     "name": "stdout",
     "output_type": "stream",
     "text": [
      "Extracting MNIST_data/train-images-idx3-ubyte.gz\n",
      "Extracting MNIST_data/train-labels-idx1-ubyte.gz\n",
      "Extracting MNIST_data/t10k-images-idx3-ubyte.gz\n",
      "Extracting MNIST_data/t10k-labels-idx1-ubyte.gz\n",
      "Iter0:Testing Accuracy:0.9527\n",
      "Iter1:Testing Accuracy:0.9618\n",
      "Iter2:Testing Accuracy:0.9686\n",
      "Iter3:Testing Accuracy:0.9697\n",
      "Iter4:Testing Accuracy:0.9706\n",
      "Iter5:Testing Accuracy:0.9738\n",
      "Iter6:Testing Accuracy:0.9747\n",
      "Iter7:Testing Accuracy:0.9722\n",
      "Iter8:Testing Accuracy:0.9735\n",
      "Iter9:Testing Accuracy:0.9766\n",
      "Iter10:Testing Accuracy:0.9746\n",
      "Iter11:Testing Accuracy:0.9773\n",
      "Iter12:Testing Accuracy:0.9772\n",
      "Iter13:Testing Accuracy:0.979\n",
      "Iter14:Testing Accuracy:0.9748\n",
      "Iter15:Testing Accuracy:0.98\n",
      "Iter16:Testing Accuracy:0.9767\n",
      "Iter17:Testing Accuracy:0.9792\n",
      "Iter18:Testing Accuracy:0.9768\n",
      "Iter19:Testing Accuracy:0.9804\n",
      "Iter20:Testing Accuracy:0.9767\n",
      "消耗的时间为：35.71574306488037\n"
     ]
    }
   ],
   "source": [
    "start_time = time.time()\n",
    "#载入数据\n",
    "mnist = input_data.read_data_sets(\"MNIST_data\", one_hot=True)\n",
    "\n",
    "#设置批次的大小\n",
    "batch_size = 100\n",
    "\n",
    "#计算一共有多少批次\n",
    "n_batch = mnist.train.num_examples // batch_size\n",
    "\n",
    "#定义两个placehoder\n",
    "x = tf.placeholder(tf.float32,[None,784])\n",
    "y = tf.placeholder(tf.float32,[None,10])\n",
    "\n",
    "#定义学习率\n",
    "lr = tf.Variable(0.001,dtype=tf.float32)\n",
    "\n",
    "#构建神经网络\n",
    "W1 = tf.Variable(tf.truncated_normal([784,500],stddev=0.1))\n",
    "b1 = tf.Variable(tf.zeros([500])+0.1)\n",
    "L1 = tf.nn.tanh(tf.matmul(x,W1)+b1)\n",
    "\n",
    "W2 = tf.Variable(tf.truncated_normal([500,300],stddev=0.1))\n",
    "b2 = tf.Variable(tf.zeros([300])+0.1)\n",
    "L2 = tf.nn.tanh(tf.matmul(L1,W2)+b2)\n",
    "\n",
    "W3 = tf.Variable(tf.truncated_normal([300,10],stddev=0.1))\n",
    "b3 = tf.Variable(tf.zeros([10])+0.1)\n",
    "\n",
    "prediction = tf.nn.softmax(tf.matmul(L2,W3)+b3)\n",
    "\n",
    "#二次代价函数\n",
    "# loss = tf.reduce_mean(tf.square(y-prediction))\n",
    "#交叉熵\n",
    "loss = tf.reduce_mean(tf.nn.softmax_cross_entropy_with_logits(labels=y,logits=prediction))\n",
    "\n",
    "#使用不同的优化器\n",
    "# train_step = tf.train.GradientDescentOptimizer(1).minimize(loss)#使用梯度下降法(Iter30:Testing Accuracy:0.9798)\n",
    "train_step = tf.train.AdamOptimizer(lr).minimize(loss)#使用AdamOptimizer下降法\n",
    "# train_step = tf.train.AdadeltaOptimizer(1).minimize(loss)#使用AdadeltaOptimizer下降法(学习率为1，正确率97%)\n",
    "\n",
    "#初始化变量\n",
    "init = tf.global_variables_initializer()\n",
    "\n",
    "#存储结果（boool型)\n",
    "corrent_prediction = tf.equal(tf.argmax(y,1),tf.argmax(prediction,1))\n",
    "\n",
    "#求准确率\n",
    "accuracy = tf.reduce_mean(tf.cast(corrent_prediction,tf.float32))#cast 将布尔型转换为浮点型\n",
    "\n",
    "with tf.Session() as sess:\n",
    "    sess.run(init)\n",
    "    for epoch in range(21):\n",
    "        for batch in range(n_batch):\n",
    "            batch_xs,batch_ys = mnist.train.next_batch(batch_size)\n",
    "            sess.run(train_step,feed_dict={x:batch_xs,y:batch_ys})\n",
    "            \n",
    "        acc = sess.run(accuracy,feed_dict={x:mnist.test.images,y:mnist.test.labels})\n",
    "        print(\"Iter\" + str(epoch)+ \":\" + \"Testing Accuracy\" +\":\"+ str(acc))\n",
    "        \n",
    "end_time = time.time()\n",
    "\n",
    "print(\"消耗的时间为：\" + str(end_time - start_time))"
   ]
  },
  {
   "cell_type": "code",
   "execution_count": null,
   "metadata": {},
   "outputs": [],
   "source": []
  }
 ],
 "metadata": {
  "kernelspec": {
   "display_name": "Python 3",
   "language": "python",
   "name": "python3"
  },
  "language_info": {
   "codemirror_mode": {
    "name": "ipython",
    "version": 3
   },
   "file_extension": ".py",
   "mimetype": "text/x-python",
   "name": "python",
   "nbconvert_exporter": "python",
   "pygments_lexer": "ipython3",
   "version": "3.6.7"
  }
 },
 "nbformat": 4,
 "nbformat_minor": 2
}
